{
 "cells": [
  {
   "cell_type": "markdown",
   "metadata": {},
   "source": [
    "# Hackaton Bernas da Street"
   ]
  },
  {
   "cell_type": "code",
   "execution_count": 56,
   "metadata": {},
   "outputs": [],
   "source": [
    "import pandas as pd\n",
    "from sklearn.ensemble import RandomForestClassifier\n",
    "from sklearn.tree import DecisionTreeClassifier\n",
    "from IPython.display import Image\n",
    "import numpy as np\n",
    "from sklearn.pipeline import make_pipeline\n",
    "from sklearn.base import BaseEstimator, ClassifierMixin, TransformerMixin\n",
    "from sklearn.impute import SimpleImputer\n",
    "from sklearn import metrics\n",
    "import matplotlib.pyplot as plt"
   ]
  },
  {
   "cell_type": "code",
   "execution_count": 2,
   "metadata": {},
   "outputs": [
    {
     "data": {
      "text/html": [
       "<div>\n",
       "<style scoped>\n",
       "    .dataframe tbody tr th:only-of-type {\n",
       "        vertical-align: middle;\n",
       "    }\n",
       "\n",
       "    .dataframe tbody tr th {\n",
       "        vertical-align: top;\n",
       "    }\n",
       "\n",
       "    .dataframe thead th {\n",
       "        text-align: right;\n",
       "    }\n",
       "</style>\n",
       "<table border=\"1\" class=\"dataframe\">\n",
       "  <thead>\n",
       "    <tr style=\"text-align: right;\">\n",
       "      <th></th>\n",
       "      <th>id</th>\n",
       "      <th>timestamp</th>\n",
       "      <th>product_id</th>\n",
       "      <th>product_department</th>\n",
       "      <th>product_category</th>\n",
       "      <th>card_id</th>\n",
       "      <th>user_id</th>\n",
       "      <th>C15</th>\n",
       "      <th>C16</th>\n",
       "      <th>C17</th>\n",
       "      <th>C18</th>\n",
       "      <th>C19</th>\n",
       "      <th>C20</th>\n",
       "      <th>C21</th>\n",
       "      <th>amount</th>\n",
       "      <th>isfraud</th>\n",
       "    </tr>\n",
       "  </thead>\n",
       "  <tbody>\n",
       "    <tr>\n",
       "      <th>0</th>\n",
       "      <td>202</td>\n",
       "      <td>1413851368636</td>\n",
       "      <td>fa41b2d8</td>\n",
       "      <td>ef5ed6b8</td>\n",
       "      <td>50e219e0</td>\n",
       "      <td>ecad2386</td>\n",
       "      <td>bd544220</td>\n",
       "      <td>300</td>\n",
       "      <td>50</td>\n",
       "      <td>2312</td>\n",
       "      <td>0</td>\n",
       "      <td>167</td>\n",
       "      <td>100075</td>\n",
       "      <td>16</td>\n",
       "      <td>195.65</td>\n",
       "      <td>0</td>\n",
       "    </tr>\n",
       "    <tr>\n",
       "      <th>1</th>\n",
       "      <td>9909</td>\n",
       "      <td>1413851725946</td>\n",
       "      <td>fa41b2d8</td>\n",
       "      <td>ef5ed6b8</td>\n",
       "      <td>50e219e0</td>\n",
       "      <td>ecad2386</td>\n",
       "      <td>bd544220</td>\n",
       "      <td>300</td>\n",
       "      <td>50</td>\n",
       "      <td>2312</td>\n",
       "      <td>0</td>\n",
       "      <td>167</td>\n",
       "      <td>100075</td>\n",
       "      <td>16</td>\n",
       "      <td>195.65</td>\n",
       "      <td>0</td>\n",
       "    </tr>\n",
       "    <tr>\n",
       "      <th>2</th>\n",
       "      <td>22692</td>\n",
       "      <td>1413851873924</td>\n",
       "      <td>fa41b2d8</td>\n",
       "      <td>ef5ed6b8</td>\n",
       "      <td>50e219e0</td>\n",
       "      <td>ecad2386</td>\n",
       "      <td>bd544220</td>\n",
       "      <td>300</td>\n",
       "      <td>50</td>\n",
       "      <td>2312</td>\n",
       "      <td>0</td>\n",
       "      <td>167</td>\n",
       "      <td>100075</td>\n",
       "      <td>16</td>\n",
       "      <td>195.65</td>\n",
       "      <td>0</td>\n",
       "    </tr>\n",
       "    <tr>\n",
       "      <th>3</th>\n",
       "      <td>22938</td>\n",
       "      <td>1413851651534</td>\n",
       "      <td>fa41b2d8</td>\n",
       "      <td>ef5ed6b8</td>\n",
       "      <td>50e219e0</td>\n",
       "      <td>ecad2386</td>\n",
       "      <td>bd544220</td>\n",
       "      <td>300</td>\n",
       "      <td>50</td>\n",
       "      <td>2312</td>\n",
       "      <td>0</td>\n",
       "      <td>167</td>\n",
       "      <td>100075</td>\n",
       "      <td>16</td>\n",
       "      <td>195.65</td>\n",
       "      <td>0</td>\n",
       "    </tr>\n",
       "    <tr>\n",
       "      <th>4</th>\n",
       "      <td>29187</td>\n",
       "      <td>1413853025188</td>\n",
       "      <td>fa41b2d8</td>\n",
       "      <td>ef5ed6b8</td>\n",
       "      <td>50e219e0</td>\n",
       "      <td>ecad2386</td>\n",
       "      <td>bd544220</td>\n",
       "      <td>300</td>\n",
       "      <td>50</td>\n",
       "      <td>2312</td>\n",
       "      <td>0</td>\n",
       "      <td>167</td>\n",
       "      <td>100075</td>\n",
       "      <td>16</td>\n",
       "      <td>195.65</td>\n",
       "      <td>0</td>\n",
       "    </tr>\n",
       "  </tbody>\n",
       "</table>\n",
       "</div>"
      ],
      "text/plain": [
       "      id      timestamp product_id product_department product_category  \\\n",
       "0    202  1413851368636   fa41b2d8           ef5ed6b8         50e219e0   \n",
       "1   9909  1413851725946   fa41b2d8           ef5ed6b8         50e219e0   \n",
       "2  22692  1413851873924   fa41b2d8           ef5ed6b8         50e219e0   \n",
       "3  22938  1413851651534   fa41b2d8           ef5ed6b8         50e219e0   \n",
       "4  29187  1413853025188   fa41b2d8           ef5ed6b8         50e219e0   \n",
       "\n",
       "    card_id   user_id  C15  C16   C17  C18  C19     C20  C21  amount  isfraud  \n",
       "0  ecad2386  bd544220  300   50  2312    0  167  100075   16  195.65        0  \n",
       "1  ecad2386  bd544220  300   50  2312    0  167  100075   16  195.65        0  \n",
       "2  ecad2386  bd544220  300   50  2312    0  167  100075   16  195.65        0  \n",
       "3  ecad2386  bd544220  300   50  2312    0  167  100075   16  195.65        0  \n",
       "4  ecad2386  bd544220  300   50  2312    0  167  100075   16  195.65        0  "
      ]
     },
     "execution_count": 2,
     "metadata": {},
     "output_type": "execute_result"
    }
   ],
   "source": [
    "df = pd.read_csv(\"data/train.csv\")\n",
    "df.head()"
   ]
  },
  {
   "cell_type": "markdown",
   "metadata": {},
   "source": [
    "# Data Cleaning 101"
   ]
  },
  {
   "cell_type": "code",
   "execution_count": 3,
   "metadata": {},
   "outputs": [
    {
     "data": {
      "text/html": [
       "<div>\n",
       "<style scoped>\n",
       "    .dataframe tbody tr th:only-of-type {\n",
       "        vertical-align: middle;\n",
       "    }\n",
       "\n",
       "    .dataframe tbody tr th {\n",
       "        vertical-align: top;\n",
       "    }\n",
       "\n",
       "    .dataframe thead th {\n",
       "        text-align: right;\n",
       "    }\n",
       "</style>\n",
       "<table border=\"1\" class=\"dataframe\">\n",
       "  <thead>\n",
       "    <tr style=\"text-align: right;\">\n",
       "      <th></th>\n",
       "      <th>id</th>\n",
       "      <th>timestamp</th>\n",
       "      <th>C15</th>\n",
       "      <th>C16</th>\n",
       "      <th>C17</th>\n",
       "      <th>C18</th>\n",
       "      <th>C19</th>\n",
       "      <th>C20</th>\n",
       "      <th>C21</th>\n",
       "      <th>amount</th>\n",
       "      <th>isfraud</th>\n",
       "    </tr>\n",
       "  </thead>\n",
       "  <tbody>\n",
       "    <tr>\n",
       "      <th>count</th>\n",
       "      <td>5.224120e+05</td>\n",
       "      <td>5.224120e+05</td>\n",
       "      <td>522412.000000</td>\n",
       "      <td>522412.000000</td>\n",
       "      <td>522412.000000</td>\n",
       "      <td>522412.000000</td>\n",
       "      <td>522412.000000</td>\n",
       "      <td>522412.000000</td>\n",
       "      <td>522412.000000</td>\n",
       "      <td>522412.000000</td>\n",
       "      <td>522412.000000</td>\n",
       "    </tr>\n",
       "    <tr>\n",
       "      <th>mean</th>\n",
       "      <td>1.669530e+07</td>\n",
       "      <td>1.414202e+12</td>\n",
       "      <td>320.588156</td>\n",
       "      <td>52.683499</td>\n",
       "      <td>1660.976921</td>\n",
       "      <td>1.788004</td>\n",
       "      <td>427.071648</td>\n",
       "      <td>43592.443851</td>\n",
       "      <td>72.838093</td>\n",
       "      <td>189.437083</td>\n",
       "      <td>0.105717</td>\n",
       "    </tr>\n",
       "    <tr>\n",
       "      <th>std</th>\n",
       "      <td>9.127556e+06</td>\n",
       "      <td>2.084992e+08</td>\n",
       "      <td>28.896147</td>\n",
       "      <td>30.344078</td>\n",
       "      <td>1016.566892</td>\n",
       "      <td>1.366340</td>\n",
       "      <td>517.917622</td>\n",
       "      <td>49633.190195</td>\n",
       "      <td>69.107663</td>\n",
       "      <td>11.654796</td>\n",
       "      <td>0.307476</td>\n",
       "    </tr>\n",
       "    <tr>\n",
       "      <th>min</th>\n",
       "      <td>2.020000e+02</td>\n",
       "      <td>1.413850e+12</td>\n",
       "      <td>120.000000</td>\n",
       "      <td>20.000000</td>\n",
       "      <td>112.000000</td>\n",
       "      <td>0.000000</td>\n",
       "      <td>33.000000</td>\n",
       "      <td>-1.000000</td>\n",
       "      <td>13.000000</td>\n",
       "      <td>52.960000</td>\n",
       "      <td>0.000000</td>\n",
       "    </tr>\n",
       "    <tr>\n",
       "      <th>25%</th>\n",
       "      <td>1.036983e+07</td>\n",
       "      <td>1.414042e+12</td>\n",
       "      <td>320.000000</td>\n",
       "      <td>50.000000</td>\n",
       "      <td>423.000000</td>\n",
       "      <td>0.000000</td>\n",
       "      <td>35.000000</td>\n",
       "      <td>-1.000000</td>\n",
       "      <td>20.000000</td>\n",
       "      <td>191.770000</td>\n",
       "      <td>0.000000</td>\n",
       "    </tr>\n",
       "    <tr>\n",
       "      <th>50%</th>\n",
       "      <td>1.417443e+07</td>\n",
       "      <td>1.414132e+12</td>\n",
       "      <td>320.000000</td>\n",
       "      <td>50.000000</td>\n",
       "      <td>2227.000000</td>\n",
       "      <td>3.000000</td>\n",
       "      <td>163.000000</td>\n",
       "      <td>-1.000000</td>\n",
       "      <td>48.000000</td>\n",
       "      <td>191.770000</td>\n",
       "      <td>0.000000</td>\n",
       "    </tr>\n",
       "    <tr>\n",
       "      <th>75%</th>\n",
       "      <td>2.540063e+07</td>\n",
       "      <td>1.414412e+12</td>\n",
       "      <td>320.000000</td>\n",
       "      <td>50.000000</td>\n",
       "      <td>2506.000000</td>\n",
       "      <td>3.000000</td>\n",
       "      <td>687.000000</td>\n",
       "      <td>100083.000000</td>\n",
       "      <td>95.000000</td>\n",
       "      <td>191.770000</td>\n",
       "      <td>0.000000</td>\n",
       "    </tr>\n",
       "    <tr>\n",
       "      <th>max</th>\n",
       "      <td>3.237738e+07</td>\n",
       "      <td>1.414541e+12</td>\n",
       "      <td>1024.000000</td>\n",
       "      <td>1024.000000</td>\n",
       "      <td>2688.000000</td>\n",
       "      <td>3.000000</td>\n",
       "      <td>1839.000000</td>\n",
       "      <td>100248.000000</td>\n",
       "      <td>221.000000</td>\n",
       "      <td>229.450000</td>\n",
       "      <td>1.000000</td>\n",
       "    </tr>\n",
       "  </tbody>\n",
       "</table>\n",
       "</div>"
      ],
      "text/plain": [
       "                 id     timestamp            C15            C16  \\\n",
       "count  5.224120e+05  5.224120e+05  522412.000000  522412.000000   \n",
       "mean   1.669530e+07  1.414202e+12     320.588156      52.683499   \n",
       "std    9.127556e+06  2.084992e+08      28.896147      30.344078   \n",
       "min    2.020000e+02  1.413850e+12     120.000000      20.000000   \n",
       "25%    1.036983e+07  1.414042e+12     320.000000      50.000000   \n",
       "50%    1.417443e+07  1.414132e+12     320.000000      50.000000   \n",
       "75%    2.540063e+07  1.414412e+12     320.000000      50.000000   \n",
       "max    3.237738e+07  1.414541e+12    1024.000000    1024.000000   \n",
       "\n",
       "                 C17            C18            C19            C20  \\\n",
       "count  522412.000000  522412.000000  522412.000000  522412.000000   \n",
       "mean     1660.976921       1.788004     427.071648   43592.443851   \n",
       "std      1016.566892       1.366340     517.917622   49633.190195   \n",
       "min       112.000000       0.000000      33.000000      -1.000000   \n",
       "25%       423.000000       0.000000      35.000000      -1.000000   \n",
       "50%      2227.000000       3.000000     163.000000      -1.000000   \n",
       "75%      2506.000000       3.000000     687.000000  100083.000000   \n",
       "max      2688.000000       3.000000    1839.000000  100248.000000   \n",
       "\n",
       "                 C21         amount        isfraud  \n",
       "count  522412.000000  522412.000000  522412.000000  \n",
       "mean       72.838093     189.437083       0.105717  \n",
       "std        69.107663      11.654796       0.307476  \n",
       "min        13.000000      52.960000       0.000000  \n",
       "25%        20.000000     191.770000       0.000000  \n",
       "50%        48.000000     191.770000       0.000000  \n",
       "75%        95.000000     191.770000       0.000000  \n",
       "max       221.000000     229.450000       1.000000  "
      ]
     },
     "execution_count": 3,
     "metadata": {},
     "output_type": "execute_result"
    }
   ],
   "source": [
    "df.describe()"
   ]
  },
  {
   "cell_type": "code",
   "execution_count": 4,
   "metadata": {},
   "outputs": [
    {
     "data": {
      "text/plain": [
       "id                    0\n",
       "timestamp             0\n",
       "product_id            0\n",
       "product_department    0\n",
       "product_category      0\n",
       "card_id               0\n",
       "user_id               0\n",
       "C15                   0\n",
       "C16                   0\n",
       "C17                   0\n",
       "C18                   0\n",
       "C19                   0\n",
       "C20                   0\n",
       "C21                   0\n",
       "amount                0\n",
       "isfraud               0\n",
       "dtype: int64"
      ]
     },
     "execution_count": 4,
     "metadata": {},
     "output_type": "execute_result"
    }
   ],
   "source": [
    "df.isnull().sum()"
   ]
  },
  {
   "cell_type": "code",
   "execution_count": 5,
   "metadata": {},
   "outputs": [
    {
     "data": {
      "text/plain": [
       "id                    522412\n",
       "timestamp             521650\n",
       "product_id              1959\n",
       "product_department      1251\n",
       "product_category           4\n",
       "card_id                 1668\n",
       "user_id                82591\n",
       "C15                        8\n",
       "C16                        9\n",
       "C17                      293\n",
       "C18                        4\n",
       "C19                       56\n",
       "C20                      157\n",
       "C21                       50\n",
       "amount                  1187\n",
       "isfraud                    2\n",
       "dtype: int64"
      ]
     },
     "execution_count": 5,
     "metadata": {},
     "output_type": "execute_result"
    }
   ],
   "source": [
    "df.nunique()"
   ]
  },
  {
   "cell_type": "code",
   "execution_count": 6,
   "metadata": {
    "scrolled": true
   },
   "outputs": [
    {
     "data": {
      "text/plain": [
       "f53417e1    162255\n",
       "ecad2386     63340\n",
       "7358e05e     25178\n",
       "d292c32f     20410\n",
       "e2fcccd2     18810\n",
       "3692fd30     13678\n",
       "03a08c3f      9405\n",
       "54c5d545      9057\n",
       "5064623a      8635\n",
       "e71aba61      7813\n",
       "73206397      6930\n",
       "e2a1ca37      6906\n",
       "03528b27      6630\n",
       "06ef0828      6510\n",
       "66f5e02e      4436\n",
       "6a7bc718      4409\n",
       "f888bf4c      4270\n",
       "be7c618d      4248\n",
       "39947756      4078\n",
       "460f4063      3816\n",
       "c0c5eb49      3557\n",
       "4e02fbd3      3529\n",
       "c680d3dd      3350\n",
       "422da614      3333\n",
       "1dc72b4d      2805\n",
       "170f5944      2798\n",
       "2bc6bb64      2717\n",
       "fb7c70a3      2242\n",
       "75759a0b      2217\n",
       "1d64ced5      2187\n",
       "             ...  \n",
       "d7933f13         1\n",
       "6f190a1b         1\n",
       "9ffa8935         1\n",
       "3f187b00         1\n",
       "7e84df87         1\n",
       "7233e861         1\n",
       "9d225a01         1\n",
       "59e2ef44         1\n",
       "477a9058         1\n",
       "d3108c5a         1\n",
       "55c29d12         1\n",
       "2d289da9         1\n",
       "faadbc8d         1\n",
       "895e4685         1\n",
       "4e031e68         1\n",
       "972bb43d         1\n",
       "5d43d4fc         1\n",
       "e2397e88         1\n",
       "887e40a7         1\n",
       "ed6036dd         1\n",
       "e889be0a         1\n",
       "f75b96b7         1\n",
       "5a66dbb1         1\n",
       "24276036         1\n",
       "f78292f1         1\n",
       "cbef836e         1\n",
       "55b4ecbf         1\n",
       "9f06e9a1         1\n",
       "8ba06868         1\n",
       "a3f358d9         1\n",
       "Name: card_id, Length: 1668, dtype: int64"
      ]
     },
     "execution_count": 6,
     "metadata": {},
     "output_type": "execute_result"
    }
   ],
   "source": [
    "df.card_id.value_counts()"
   ]
  },
  {
   "cell_type": "code",
   "execution_count": 7,
   "metadata": {},
   "outputs": [],
   "source": [
    "df = df.drop(\"id\", axis=1)"
   ]
  },
  {
   "cell_type": "code",
   "execution_count": 8,
   "metadata": {},
   "outputs": [
    {
     "data": {
      "text/html": [
       "<div>\n",
       "<style scoped>\n",
       "    .dataframe tbody tr th:only-of-type {\n",
       "        vertical-align: middle;\n",
       "    }\n",
       "\n",
       "    .dataframe tbody tr th {\n",
       "        vertical-align: top;\n",
       "    }\n",
       "\n",
       "    .dataframe thead th {\n",
       "        text-align: right;\n",
       "    }\n",
       "</style>\n",
       "<table border=\"1\" class=\"dataframe\">\n",
       "  <thead>\n",
       "    <tr style=\"text-align: right;\">\n",
       "      <th></th>\n",
       "      <th>timestamp</th>\n",
       "      <th>product_id</th>\n",
       "      <th>product_department</th>\n",
       "      <th>product_category</th>\n",
       "      <th>card_id</th>\n",
       "      <th>user_id</th>\n",
       "      <th>C15</th>\n",
       "      <th>C16</th>\n",
       "      <th>C17</th>\n",
       "      <th>C18</th>\n",
       "      <th>C19</th>\n",
       "      <th>C20</th>\n",
       "      <th>C21</th>\n",
       "      <th>amount</th>\n",
       "      <th>isfraud</th>\n",
       "    </tr>\n",
       "  </thead>\n",
       "  <tbody>\n",
       "    <tr>\n",
       "      <th>0</th>\n",
       "      <td>1413851368636</td>\n",
       "      <td>fa41b2d8</td>\n",
       "      <td>ef5ed6b8</td>\n",
       "      <td>50e219e0</td>\n",
       "      <td>ecad2386</td>\n",
       "      <td>bd544220</td>\n",
       "      <td>300</td>\n",
       "      <td>50</td>\n",
       "      <td>2312</td>\n",
       "      <td>0</td>\n",
       "      <td>167</td>\n",
       "      <td>100075</td>\n",
       "      <td>16</td>\n",
       "      <td>195.65</td>\n",
       "      <td>0</td>\n",
       "    </tr>\n",
       "    <tr>\n",
       "      <th>1</th>\n",
       "      <td>1413851725946</td>\n",
       "      <td>fa41b2d8</td>\n",
       "      <td>ef5ed6b8</td>\n",
       "      <td>50e219e0</td>\n",
       "      <td>ecad2386</td>\n",
       "      <td>bd544220</td>\n",
       "      <td>300</td>\n",
       "      <td>50</td>\n",
       "      <td>2312</td>\n",
       "      <td>0</td>\n",
       "      <td>167</td>\n",
       "      <td>100075</td>\n",
       "      <td>16</td>\n",
       "      <td>195.65</td>\n",
       "      <td>0</td>\n",
       "    </tr>\n",
       "    <tr>\n",
       "      <th>2</th>\n",
       "      <td>1413851873924</td>\n",
       "      <td>fa41b2d8</td>\n",
       "      <td>ef5ed6b8</td>\n",
       "      <td>50e219e0</td>\n",
       "      <td>ecad2386</td>\n",
       "      <td>bd544220</td>\n",
       "      <td>300</td>\n",
       "      <td>50</td>\n",
       "      <td>2312</td>\n",
       "      <td>0</td>\n",
       "      <td>167</td>\n",
       "      <td>100075</td>\n",
       "      <td>16</td>\n",
       "      <td>195.65</td>\n",
       "      <td>0</td>\n",
       "    </tr>\n",
       "    <tr>\n",
       "      <th>3</th>\n",
       "      <td>1413851651534</td>\n",
       "      <td>fa41b2d8</td>\n",
       "      <td>ef5ed6b8</td>\n",
       "      <td>50e219e0</td>\n",
       "      <td>ecad2386</td>\n",
       "      <td>bd544220</td>\n",
       "      <td>300</td>\n",
       "      <td>50</td>\n",
       "      <td>2312</td>\n",
       "      <td>0</td>\n",
       "      <td>167</td>\n",
       "      <td>100075</td>\n",
       "      <td>16</td>\n",
       "      <td>195.65</td>\n",
       "      <td>0</td>\n",
       "    </tr>\n",
       "    <tr>\n",
       "      <th>4</th>\n",
       "      <td>1413853025188</td>\n",
       "      <td>fa41b2d8</td>\n",
       "      <td>ef5ed6b8</td>\n",
       "      <td>50e219e0</td>\n",
       "      <td>ecad2386</td>\n",
       "      <td>bd544220</td>\n",
       "      <td>300</td>\n",
       "      <td>50</td>\n",
       "      <td>2312</td>\n",
       "      <td>0</td>\n",
       "      <td>167</td>\n",
       "      <td>100075</td>\n",
       "      <td>16</td>\n",
       "      <td>195.65</td>\n",
       "      <td>0</td>\n",
       "    </tr>\n",
       "  </tbody>\n",
       "</table>\n",
       "</div>"
      ],
      "text/plain": [
       "       timestamp product_id product_department product_category   card_id  \\\n",
       "0  1413851368636   fa41b2d8           ef5ed6b8         50e219e0  ecad2386   \n",
       "1  1413851725946   fa41b2d8           ef5ed6b8         50e219e0  ecad2386   \n",
       "2  1413851873924   fa41b2d8           ef5ed6b8         50e219e0  ecad2386   \n",
       "3  1413851651534   fa41b2d8           ef5ed6b8         50e219e0  ecad2386   \n",
       "4  1413853025188   fa41b2d8           ef5ed6b8         50e219e0  ecad2386   \n",
       "\n",
       "    user_id  C15  C16   C17  C18  C19     C20  C21  amount  isfraud  \n",
       "0  bd544220  300   50  2312    0  167  100075   16  195.65        0  \n",
       "1  bd544220  300   50  2312    0  167  100075   16  195.65        0  \n",
       "2  bd544220  300   50  2312    0  167  100075   16  195.65        0  \n",
       "3  bd544220  300   50  2312    0  167  100075   16  195.65        0  \n",
       "4  bd544220  300   50  2312    0  167  100075   16  195.65        0  "
      ]
     },
     "execution_count": 8,
     "metadata": {},
     "output_type": "execute_result"
    }
   ],
   "source": [
    "df.head()"
   ]
  },
  {
   "cell_type": "markdown",
   "metadata": {},
   "source": [
    "## Card id investigation"
   ]
  },
  {
   "cell_type": "code",
   "execution_count": null,
   "metadata": {},
   "outputs": [],
   "source": []
  },
  {
   "cell_type": "markdown",
   "metadata": {},
   "source": [
    "## Sort timestamp and split test/train"
   ]
  },
  {
   "cell_type": "code",
   "execution_count": 9,
   "metadata": {},
   "outputs": [
    {
     "data": {
      "text/html": [
       "<div>\n",
       "<style scoped>\n",
       "    .dataframe tbody tr th:only-of-type {\n",
       "        vertical-align: middle;\n",
       "    }\n",
       "\n",
       "    .dataframe tbody tr th {\n",
       "        vertical-align: top;\n",
       "    }\n",
       "\n",
       "    .dataframe thead th {\n",
       "        text-align: right;\n",
       "    }\n",
       "</style>\n",
       "<table border=\"1\" class=\"dataframe\">\n",
       "  <thead>\n",
       "    <tr style=\"text-align: right;\">\n",
       "      <th></th>\n",
       "      <th>timestamp</th>\n",
       "      <th>product_id</th>\n",
       "      <th>product_department</th>\n",
       "      <th>product_category</th>\n",
       "      <th>card_id</th>\n",
       "      <th>user_id</th>\n",
       "      <th>C15</th>\n",
       "      <th>C16</th>\n",
       "      <th>C17</th>\n",
       "      <th>C18</th>\n",
       "      <th>C19</th>\n",
       "      <th>C20</th>\n",
       "      <th>C21</th>\n",
       "      <th>amount</th>\n",
       "      <th>isfraud</th>\n",
       "    </tr>\n",
       "  </thead>\n",
       "  <tbody>\n",
       "    <tr>\n",
       "      <th>0</th>\n",
       "      <td>1413849604595</td>\n",
       "      <td>c4e18dd6</td>\n",
       "      <td>85f751fd</td>\n",
       "      <td>50e219e0</td>\n",
       "      <td>92e72531</td>\n",
       "      <td>a99f214a</td>\n",
       "      <td>320</td>\n",
       "      <td>50</td>\n",
       "      <td>2480</td>\n",
       "      <td>3</td>\n",
       "      <td>297</td>\n",
       "      <td>100111</td>\n",
       "      <td>61</td>\n",
       "      <td>191.77</td>\n",
       "      <td>0</td>\n",
       "    </tr>\n",
       "    <tr>\n",
       "      <th>1</th>\n",
       "      <td>1413849611766</td>\n",
       "      <td>c4e18dd6</td>\n",
       "      <td>85f751fd</td>\n",
       "      <td>50e219e0</td>\n",
       "      <td>e71aba61</td>\n",
       "      <td>a99f214a</td>\n",
       "      <td>320</td>\n",
       "      <td>50</td>\n",
       "      <td>1722</td>\n",
       "      <td>0</td>\n",
       "      <td>35</td>\n",
       "      <td>-1</td>\n",
       "      <td>79</td>\n",
       "      <td>191.77</td>\n",
       "      <td>1</td>\n",
       "    </tr>\n",
       "    <tr>\n",
       "      <th>2</th>\n",
       "      <td>1413849613367</td>\n",
       "      <td>dd7026ee</td>\n",
       "      <td>15d93b0b</td>\n",
       "      <td>50e219e0</td>\n",
       "      <td>ecad2386</td>\n",
       "      <td>5c7c1b02</td>\n",
       "      <td>320</td>\n",
       "      <td>50</td>\n",
       "      <td>2495</td>\n",
       "      <td>2</td>\n",
       "      <td>167</td>\n",
       "      <td>100173</td>\n",
       "      <td>23</td>\n",
       "      <td>227.63</td>\n",
       "      <td>0</td>\n",
       "    </tr>\n",
       "    <tr>\n",
       "      <th>3</th>\n",
       "      <td>1413849619068</td>\n",
       "      <td>c4e18dd6</td>\n",
       "      <td>85f751fd</td>\n",
       "      <td>50e219e0</td>\n",
       "      <td>5e3f096f</td>\n",
       "      <td>ba2d210a</td>\n",
       "      <td>320</td>\n",
       "      <td>50</td>\n",
       "      <td>2161</td>\n",
       "      <td>0</td>\n",
       "      <td>35</td>\n",
       "      <td>100051</td>\n",
       "      <td>157</td>\n",
       "      <td>191.77</td>\n",
       "      <td>0</td>\n",
       "    </tr>\n",
       "    <tr>\n",
       "      <th>4</th>\n",
       "      <td>1413849625209</td>\n",
       "      <td>c4e18dd6</td>\n",
       "      <td>85f751fd</td>\n",
       "      <td>50e219e0</td>\n",
       "      <td>39947756</td>\n",
       "      <td>0ddad6d9</td>\n",
       "      <td>320</td>\n",
       "      <td>50</td>\n",
       "      <td>1955</td>\n",
       "      <td>3</td>\n",
       "      <td>163</td>\n",
       "      <td>100192</td>\n",
       "      <td>71</td>\n",
       "      <td>191.77</td>\n",
       "      <td>0</td>\n",
       "    </tr>\n",
       "  </tbody>\n",
       "</table>\n",
       "</div>"
      ],
      "text/plain": [
       "       timestamp product_id product_department product_category   card_id  \\\n",
       "0  1413849604595   c4e18dd6           85f751fd         50e219e0  92e72531   \n",
       "1  1413849611766   c4e18dd6           85f751fd         50e219e0  e71aba61   \n",
       "2  1413849613367   dd7026ee           15d93b0b         50e219e0  ecad2386   \n",
       "3  1413849619068   c4e18dd6           85f751fd         50e219e0  5e3f096f   \n",
       "4  1413849625209   c4e18dd6           85f751fd         50e219e0  39947756   \n",
       "\n",
       "    user_id  C15  C16   C17  C18  C19     C20  C21  amount  isfraud  \n",
       "0  a99f214a  320   50  2480    3  297  100111   61  191.77        0  \n",
       "1  a99f214a  320   50  1722    0   35      -1   79  191.77        1  \n",
       "2  5c7c1b02  320   50  2495    2  167  100173   23  227.63        0  \n",
       "3  ba2d210a  320   50  2161    0   35  100051  157  191.77        0  \n",
       "4  0ddad6d9  320   50  1955    3  163  100192   71  191.77        0  "
      ]
     },
     "execution_count": 9,
     "metadata": {},
     "output_type": "execute_result"
    }
   ],
   "source": [
    "df = df.sort_values(by = \"timestamp\").reset_index(drop = True)\n",
    "df.head()"
   ]
  },
  {
   "cell_type": "code",
   "execution_count": 10,
   "metadata": {},
   "outputs": [
    {
     "data": {
      "text/plain": [
       "522412"
      ]
     },
     "execution_count": 10,
     "metadata": {},
     "output_type": "execute_result"
    }
   ],
   "source": [
    "len(df)"
   ]
  },
  {
   "cell_type": "code",
   "execution_count": 11,
   "metadata": {},
   "outputs": [
    {
     "data": {
      "text/plain": [
       "417929"
      ]
     },
     "execution_count": 11,
     "metadata": {},
     "output_type": "execute_result"
    }
   ],
   "source": [
    "len(df.iloc[0:int(0.8*len(df))])"
   ]
  },
  {
   "cell_type": "code",
   "execution_count": 12,
   "metadata": {},
   "outputs": [
    {
     "data": {
      "text/plain": [
       "104483"
      ]
     },
     "execution_count": 12,
     "metadata": {},
     "output_type": "execute_result"
    }
   ],
   "source": [
    "len(df.iloc[int(0.8*len(df)):])"
   ]
  },
  {
   "cell_type": "code",
   "execution_count": 13,
   "metadata": {},
   "outputs": [],
   "source": [
    "df_train = df.iloc[0:int(0.8*len(df))].copy()\n",
    "df_test = df.iloc[int(0.8*len(df)):].copy()\n",
    "x_train = df_train.drop(\"isfraud\",axis=1)\n",
    "y_train = df_train[[\"isfraud\"]]\n",
    "x_test = df_test.drop(\"isfraud\",axis=1)\n",
    "y_test = df_test[[\"isfraud\"]]"
   ]
  },
  {
   "cell_type": "code",
   "execution_count": null,
   "metadata": {},
   "outputs": [],
   "source": []
  },
  {
   "cell_type": "markdown",
   "metadata": {},
   "source": [
    "# Baseline Basic Model for Dummies"
   ]
  },
  {
   "cell_type": "markdown",
   "metadata": {},
   "source": [
    "## Logistic Regression"
   ]
  },
  {
   "cell_type": "code",
   "execution_count": 26,
   "metadata": {},
   "outputs": [
    {
     "name": "stderr",
     "output_type": "stream",
     "text": [
      "C:\\Users\\Francisco\\Anaconda3\\lib\\site-packages\\sklearn\\linear_model\\logistic.py:432: FutureWarning: Default solver will be changed to 'lbfgs' in 0.22. Specify a solver to silence this warning.\n",
      "  FutureWarning)\n",
      "C:\\Users\\Francisco\\Anaconda3\\lib\\site-packages\\sklearn\\utils\\validation.py:724: DataConversionWarning: A column-vector y was passed when a 1d array was expected. Please change the shape of y to (n_samples, ), for example using ravel().\n",
      "  y = column_or_1d(y, warn=True)\n"
     ]
    },
    {
     "data": {
      "text/plain": [
       "LogisticRegression(C=1.0, class_weight={0: 0.9, 1: 0.1}, dual=False,\n",
       "                   fit_intercept=True, intercept_scaling=1, l1_ratio=None,\n",
       "                   max_iter=100, multi_class='warn', n_jobs=None, penalty='l2',\n",
       "                   random_state=None, solver='warn', tol=0.0001, verbose=0,\n",
       "                   warm_start=False)"
      ]
     },
     "execution_count": 26,
     "metadata": {},
     "output_type": "execute_result"
    }
   ],
   "source": [
    "from sklearn.linear_model import LogisticRegression\n",
    "\n",
    "lr = LogisticRegression(class_weight={0:0.9,1:0.1})\n",
    "lr.fit(x_train[[\"amount\"]], y_train)"
   ]
  },
  {
   "cell_type": "code",
   "execution_count": 36,
   "metadata": {},
   "outputs": [],
   "source": [
    "columns = [\"amount\"]"
   ]
  },
  {
   "cell_type": "code",
   "execution_count": null,
   "metadata": {},
   "outputs": [],
   "source": []
  },
  {
   "cell_type": "code",
   "execution_count": 52,
   "metadata": {},
   "outputs": [],
   "source": [
    "predicted_proba_logistic = lr.predict_proba(x_train[[\"amount\"]])[:,1]"
   ]
  },
  {
   "cell_type": "code",
   "execution_count": 42,
   "metadata": {},
   "outputs": [],
   "source": [
    "y_pred_train = lr.predict(x_train[columns])"
   ]
  },
  {
   "cell_type": "code",
   "execution_count": 44,
   "metadata": {},
   "outputs": [],
   "source": [
    "y_pred_test = lr.predict(x_test[columns])"
   ]
  },
  {
   "cell_type": "code",
   "execution_count": 54,
   "metadata": {},
   "outputs": [],
   "source": [
    "roc_auc_logistic = metrics.roc_auc_score(y_train,lr.predict_proba(x_train[[\"amount\"]])[:,1])"
   ]
  },
  {
   "cell_type": "code",
   "execution_count": 29,
   "metadata": {
    "scrolled": false
   },
   "outputs": [
    {
     "data": {
      "text/plain": [
       "array([0, 0, 0, ..., 0, 0, 0], dtype=int64)"
      ]
     },
     "execution_count": 29,
     "metadata": {},
     "output_type": "execute_result"
    }
   ],
   "source": [
    "lr.predict(x_test[[\"amount\"]])"
   ]
  },
  {
   "cell_type": "code",
   "execution_count": 57,
   "metadata": {},
   "outputs": [
    {
     "data": {
      "image/png": "[encoded data removed]",
      "text/plain": [
       "<Figure size 576x432 with 1 Axes>"
      ]
     },
     "metadata": {
      "needs_background": "light"
     },
     "output_type": "display_data"
    }
   ],
   "source": [
    "fpr, tpr, thresholds = metrics.roc_curve(y_score=predicted_proba_logistic, y_true=y_train.isfraud)\n",
    "def plot_roc_curve(roc_auc, fpr, tpr):\n",
    "    # Function to plot ROC Curve\n",
    "    # Note: this is ALL just matplotlib stuff, nothing scientific about it! \n",
    "    \n",
    "    # Inputs: \n",
    "    #     roc_auc - AU ROC value (float)\n",
    "    #     fpr - false positive rate (output of roc_curve()) array\n",
    "    #     tpr - true positive rate (output of roc_curve()) array\n",
    "    \n",
    "    plt.figure(figsize=(8,6))\n",
    "    lw = 2\n",
    "    plt.plot(fpr, tpr, color='orange', lw=lw, label='ROC curve (AUROC = %0.2f)' % roc_auc)\n",
    "    plt.plot([0, 1], [0, 1], color='navy', lw=lw, linestyle='--', label='random')\n",
    "    plt.xlim([-0.05, 1.0])\n",
    "    plt.ylim([0.0, 1.05])\n",
    "    plt.grid()\n",
    "    plt.xlabel('False Positive Rate')\n",
    "    plt.ylabel('True Positive Rate')\n",
    "    plt.title('Receiver operating characteristic example')\n",
    "    plt.legend(loc=\"lower right\")\n",
    "    plt.show()\n",
    "plot_roc_curve(roc_auc_logistic, fpr, tpr)"
   ]
  },
  {
   "cell_type": "markdown",
   "metadata": {},
   "source": [
    "## Random Forest"
   ]
  },
  {
   "cell_type": "markdown",
   "metadata": {},
   "source": [
    "# "
   ]
  },
  {
   "cell_type": "code",
   "execution_count": null,
   "metadata": {},
   "outputs": [],
   "source": []
  }
 ],
 "metadata": {
  "kernelspec": {
   "display_name": "Python 3",
   "language": "python",
   "name": "python3"
  },
  "language_info": {
   "codemirror_mode": {
    "name": "ipython",
    "version": 3
   },
   "file_extension": ".py",
   "mimetype": "text/x-python",
   "name": "python",
   "nbconvert_exporter": "python",
   "pygments_lexer": "ipython3",
   "version": "3.6.8"
  }
 },
 "nbformat": 4,
 "nbformat_minor": 2
}
